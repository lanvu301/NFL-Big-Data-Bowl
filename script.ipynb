{
 "cells": [
  {
   "cell_type": "code",
   "execution_count": 1,
   "metadata": {},
   "outputs": [],
   "source": [
    "import pandas as pd\n",
    "import numpy as np"
   ]
  },
  {
   "cell_type": "code",
   "execution_count": 2,
   "metadata": {},
   "outputs": [],
   "source": [
    "games= pd.read_csv('/Users/lanvu/Downloads/nfl-big-data-bowl-2025/games.csv')\n",
    "player_play=pd.read_csv('/Users/lanvu/Downloads/nfl-big-data-bowl-2025/player_play.csv')\n",
    "players=pd.read_csv('/Users/lanvu/Downloads/nfl-big-data-bowl-2025/plays.csv')\n",
    "track_w1=pd.read_csv('/Users/lanvu/Downloads/nfl-big-data-bowl-2025/tracking_week_1.csv')\n",
    "track_w2=pd.read_csv('/Users/lanvu/Downloads/nfl-big-data-bowl-2025/tracking_week_2.csv')\n",
    "track_w3=pd.read_csv('/Users/lanvu/Downloads/nfl-big-data-bowl-2025/tracking_week_3.csv')\n",
    "track_w4=pd.read_csv('/Users/lanvu/Downloads/nfl-big-data-bowl-2025/tracking_week_4.csv')\n",
    "track_w5=pd.read_csv('/Users/lanvu/Downloads/nfl-big-data-bowl-2025/tracking_week_5.csv')\n",
    "track_w6=pd.read_csv('/Users/lanvu/Downloads/nfl-big-data-bowl-2025/tracking_week_6.csv')\n",
    "track_w7=pd.read_csv('/Users/lanvu/Downloads/nfl-big-data-bowl-2025/tracking_week_7.csv')\n",
    "track_w8=pd.read_csv('/Users/lanvu/Downloads/nfl-big-data-bowl-2025/tracking_week_8.csv')\n",
    "track_w9=pd.read_csv('/Users/lanvu/Downloads/nfl-big-data-bowl-2025/tracking_week_9.csv')\n"
   ]
  }
 ],
 "metadata": {
  "kernelspec": {
   "display_name": "Python 3",
   "language": "python",
   "name": "python3"
  },
  "language_info": {
   "codemirror_mode": {
    "name": "ipython",
    "version": 3
   },
   "file_extension": ".py",
   "mimetype": "text/x-python",
   "name": "python",
   "nbconvert_exporter": "python",
   "pygments_lexer": "ipython3",
   "version": "3.13.1"
  }
 },
 "nbformat": 4,
 "nbformat_minor": 2
}
